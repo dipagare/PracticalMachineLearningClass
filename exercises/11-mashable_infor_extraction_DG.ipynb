{
 "cells": [
  {
   "cell_type": "markdown",
   "metadata": {},
   "source": [
    "# Exercise 11\n",
    "\n",
    "## Information Retrieval"
   ]
  },
  {
   "cell_type": "markdown",
   "metadata": {},
   "source": [
    "# Exercice 11.1 (4 points)\n",
    "\n",
    "* Propose features to be extracted from a mashable article\n",
    "* Write one line to explain each proposed feature\n",
    "* Minimum 5"
   ]
  },
  {
   "cell_type": "markdown",
   "metadata": {},
   "source": [
    "http://mashable.com/2016/03/08/15-skills-digital-marketers/#vJl0D4ybMuqi\n",
    "\n",
    "Variable1: Autor del artículo: Por la trayectoria en la escritura de otros articulos, preferencia del lector\n",
    "\n",
    "Variable2: Largo del título del artículo: Entre más conciso es el titulo más atractivo para el lector (cantidad de letras)\n",
    "\n",
    "Variable3: Número de veces que se repite la palabra  principal del articulo por ejemplo \"Marketing digital\" en el artículo: Permite sobresaltar el tema principal y en las busquedas ser mas recurrente.\n",
    "\n",
    "Variable4: Cantidad de imagenes que  posee el articulo: La parte visual es fundamental en el proceso de lectura, hace más atractiva una lectura.\n",
    "\n",
    "Variable5: Número de hipervinculos asosciados al tema de dicho articulo: Permite ampliación de la información del tema de interés\n",
    "\n",
    "Variable6: Número de palabras utilizadas en el artículo: De la extensión del artículo depende la lectura de las personas.\n",
    "\n",
    "Variable7: Cantidad de citas, es decir frases encerradas en comillas: Permite dar más dinámica a la lectura.\n",
    "\n",
    "Variable8: Cantidad de parráfos  utilizados: A parte de dar una organización visual, esta asociados a la extensión del artículo.\n",
    "\n",
    "Variable9: Cantidad de palabras o frases resaltadas (negrilla): Cumple con el objetivo de destacar dicho objeto lo cual es atractivo para el lector\n",
    "\n",
    "Variable10: Número de subtítulos a lo largo del artículo: Permite ina lectura dinámica y no fatigar al lector con un texto denso."
   ]
  },
  {
   "cell_type": "markdown",
   "metadata": {},
   "source": [
    "# Bonus Exercice 11.2 (3 points) \n",
    "\n",
    "* Calculate the len of the text for each article\n",
    "* Calculate the number of Embedded Tweets"
   ]
  },
  {
   "cell_type": "code",
   "execution_count": 1,
   "metadata": {
    "collapsed": true
   },
   "outputs": [],
   "source": [
    "url_ = 'http://mashable.com/2016/03/04/the-who-50th-anniversary'"
   ]
  },
  {
   "cell_type": "code",
   "execution_count": 2,
   "metadata": {
    "collapsed": true
   },
   "outputs": [],
   "source": [
    "url_ = 'http://mashable.com/2016/03/08/scotland-giant-rabbit-home'"
   ]
  },
  {
   "cell_type": "code",
   "execution_count": 3,
   "metadata": {
    "collapsed": true
   },
   "outputs": [],
   "source": [
    "url_ = 'http://mashable.com/2016/03/08/15-skills-digital-marketers'"
   ]
  },
  {
   "cell_type": "code",
   "execution_count": 4,
   "metadata": {
    "collapsed": true
   },
   "outputs": [],
   "source": [
    "url_ = 'http://mashable.com/2016/03/31/donald-trump-gaslighting-women'"
   ]
  }
 ],
 "metadata": {
  "kernelspec": {
   "display_name": "Python 3",
   "language": "python",
   "name": "python3"
  },
  "language_info": {
   "codemirror_mode": {
    "name": "ipython",
    "version": 3
   },
   "file_extension": ".py",
   "mimetype": "text/x-python",
   "name": "python",
   "nbconvert_exporter": "python",
   "pygments_lexer": "ipython3",
   "version": "3.5.1"
  }
 },
 "nbformat": 4,
 "nbformat_minor": 0
}
