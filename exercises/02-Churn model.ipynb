{
 "cells": [
  {
   "cell_type": "markdown",
   "metadata": {},
   "source": [
    "# Exercise 02\n",
    "\n",
    "Estimate a classifier to predict churn"
   ]
  },
  {
   "cell_type": "markdown",
   "metadata": {},
   "source": [
    "## Problem Formulation\n",
    "\n",
    "Customer Churn: losing/attrition of the customers from the company. Especially, the industries that the user acquisition is costly, it is crucially important for one company to reduce and ideally make the customer churn to 0 to sustain their recurring revenue. If you consider customer retention is always cheaper than customer acquisition and generally depends on the data of the user(usage of the service or product), it poses a great/exciting/hard problem for machine learning.\n",
    "\n",
    "## Data\n",
    "\n",
    "Dataset is from a telecom service provider where they have the service usage(international plan, voicemail plan, usage in daytime, usage in evenings and nights and so on) and basic demographic information(state and area code) of the user. For labels, I have a single data point whether the customer is churned out or not."
   ]
  },
  {
   "cell_type": "code",
   "execution_count": 1,
   "metadata": {
    "collapsed": false
   },
   "outputs": [],
   "source": [
    "# Download the dataset\n",
    "from urllib import request\n",
    "response = request.urlopen('https://raw.githubusercontent.com/EricChiang/churn/master/data/churn.csv')\n",
    "raw_data = response.read().decode('utf-8')"
   ]
  },
  {
   "cell_type": "code",
   "execution_count": 2,
   "metadata": {
    "collapsed": false
   },
   "outputs": [],
   "source": [
    "# Convert to numpy\n",
    "import numpy as np\n",
    "data = []\n",
    "for line in raw_data.splitlines()[1:]:\n",
    "    words = line.split(',')\n",
    "    data.append(words)\n",
    "data = np.array(data)\n",
    "column_names = raw_data.splitlines()[0].split(',')\n",
    "n_obs = data.shape[0]"
   ]
  },
  {
   "cell_type": "code",
   "execution_count": 3,
   "metadata": {
    "collapsed": false
   },
   "outputs": [
    {
     "name": "stdout",
     "output_type": "stream",
     "text": [
      "['State', 'Account Length', 'Area Code', 'Phone', \"Int'l Plan\", 'VMail Plan', 'VMail Message', 'Day Mins', 'Day Calls', 'Day Charge', 'Eve Mins', 'Eve Calls', 'Eve Charge', 'Night Mins', 'Night Calls', 'Night Charge', 'Intl Mins', 'Intl Calls', 'Intl Charge', 'CustServ Calls', 'Churn?']\n",
      "(3333, 21)\n"
     ]
    }
   ],
   "source": [
    "print(column_names)\n",
    "print(data.shape)"
   ]
  },
  {
   "cell_type": "code",
   "execution_count": 4,
   "metadata": {
    "collapsed": false
   },
   "outputs": [
    {
     "data": {
      "text/plain": [
       "array([['KS', '128', '415', '382-4657', 'no', 'yes', '25', '265.100000',\n",
       "        '110', '45.070000', '197.400000', '99', '16.780000', '244.700000',\n",
       "        '91', '11.010000', '10.000000', '3', '2.700000', '1', 'False.'],\n",
       "       ['OH', '107', '415', '371-7191', 'no', 'yes', '26', '161.600000',\n",
       "        '123', '27.470000', '195.500000', '103', '16.620000', '254.400000',\n",
       "        '103', '11.450000', '13.700000', '3', '3.700000', '1', 'False.']], \n",
       "      dtype='<U10')"
      ]
     },
     "execution_count": 4,
     "metadata": {},
     "output_type": "execute_result"
    }
   ],
   "source": [
    "data[:2]"
   ]
  },
  {
   "cell_type": "code",
   "execution_count": 5,
   "metadata": {
    "collapsed": false
   },
   "outputs": [],
   "source": [
    "# Select only the numeric features\n",
    "X = data[:, [1,2,6,7,8,9,10]].astype(np.float)\n",
    "# Convert bools to floats\n",
    "X_ = (data[:, [4,5]] == 'no').astype(np.float)\n",
    "X = np.hstack((X, X_))\n",
    "Y = (data[:, -1] == 'True.').astype(np.int)"
   ]
  },
  {
   "cell_type": "code",
   "execution_count": 6,
   "metadata": {
    "collapsed": false
   },
   "outputs": [
    {
     "data": {
      "text/plain": [
       "array([[ 128.  ,  415.  ,   25.  ,  265.1 ,  110.  ,   45.07,  197.4 ,\n",
       "           1.  ,    0.  ],\n",
       "       [ 107.  ,  415.  ,   26.  ,  161.6 ,  123.  ,   27.47,  195.5 ,\n",
       "           1.  ,    0.  ]])"
      ]
     },
     "execution_count": 6,
     "metadata": {},
     "output_type": "execute_result"
    }
   ],
   "source": [
    "X[:2]"
   ]
  },
  {
   "cell_type": "code",
   "execution_count": 7,
   "metadata": {
    "collapsed": false
   },
   "outputs": [
    {
     "name": "stdout",
     "output_type": "stream",
     "text": [
      "Number of churn cases  483\n"
     ]
    }
   ],
   "source": [
    "print('Number of churn cases ', Y.sum())"
   ]
  },
  {
   "cell_type": "markdown",
   "metadata": {},
   "source": [
    "# Exercise 02.1\n",
    "\n",
    "Split the training set in two sets with 70% and 30% of the data, respectively.\n",
    "\n",
    "---\n",
    "Partir la base de datos es dos partes de 70%"
   ]
  },
  {
   "cell_type": "code",
   "execution_count": 20,
   "metadata": {
    "collapsed": false
   },
   "outputs": [
    {
     "name": "stdout",
     "output_type": "stream",
     "text": [
      "(2333, 9) (2333,)\n",
      "(1000, 9) (1000,)\n"
     ]
    }
   ],
   "source": [
    "# Insert code here\n",
    "n1 = X.shape[-2]\n",
    "n_X = n1*0.7\n",
    "n_X\n",
    "\n",
    "# 70% para las partes\n",
    "X_1,Y_1 = X[0:2333, ],Y[0:2333, ]\n",
    "print(X_1.shape,Y_1.shape)\n",
    "\n",
    "n2 = X.shape[-2]\n",
    "n_X = n2*0.3\n",
    "n_X\n",
    "\n",
    "# 30% para las partes\n",
    "X_2,Y_2 = X[2333:, ],Y[2333:, ]\n",
    "print(X_2.shape,Y_2.shape)\n",
    "\n",
    "\n"
   ]
  },
  {
   "cell_type": "markdown",
   "metadata": {},
   "source": [
    "# Exercise 02.2\n",
    "\n",
    "Train a logistic regression using the 70% set\n",
    "\n",
    "---\n",
    "Entrenar una regresion logistica usando la particion del 70%"
   ]
  },
  {
   "cell_type": "code",
   "execution_count": 21,
   "metadata": {
    "collapsed": false
   },
   "outputs": [
    {
     "name": "stdout",
     "output_type": "stream",
     "text": [
      "[[ -6.74978952e-04  -2.51736229e-03  -2.82891684e-02   1.09232850e-02\n",
      "   -8.15540461e-04  -6.98122006e-03   4.46921362e-03  -1.83259485e+00\n",
      "    1.38953872e-02]]\n",
      "[-1.64811751]\n"
     ]
    }
   ],
   "source": [
    "\n",
    "# Insert code here\n",
    "from sklearn.linear_model import LogisticRegression\n",
    "clf = LogisticRegression()\n",
    "clf.fit(X_1, Y_1)\n",
    "print(clf.coef_)\n",
    "print(clf.intercept_)\n"
   ]
  },
  {
   "cell_type": "markdown",
   "metadata": {},
   "source": [
    "# Exercise 02.3\n",
    "\n",
    "a) Create a confusion matrix using the prediction on the 30% set.\n",
    "\n",
    "b) Estimate the accuracy of the model in the 30% set\n",
    "\n",
    "---\n",
    "a) Estimar la matriz de confusion en la base del  30%.\n",
    "\n",
    "b) Calcular el poder de prediccion usando la "
   ]
  },
  {
   "cell_type": "code",
   "execution_count": 22,
   "metadata": {
    "collapsed": false
   },
   "outputs": [
    {
     "name": "stdout",
     "output_type": "stream",
     "text": [
      "[[  6.36124259e-04  -6.05706497e-03  -1.13330881e-03   1.08429413e-02\n",
      "   -1.40719892e-05   7.18993749e-03   5.19129041e-03  -1.89303534e+00\n",
      "    5.45830516e-01]]\n",
      "[-1.17015669]\n"
     ]
    }
   ],
   "source": [
    "\n",
    "# Insert code here\n",
    "from sklearn.linear_model import LogisticRegression\n",
    "clf = LogisticRegression()\n",
    "clf.fit(X_2, Y_2)\n",
    "y_pred = clf.predict(X_2)\n",
    "print(clf.coef_)\n",
    "print(clf.intercept_)"
   ]
  },
  {
   "cell_type": "code",
   "execution_count": 23,
   "metadata": {
    "collapsed": false
   },
   "outputs": [
    {
     "name": "stdout",
     "output_type": "stream",
     "text": [
      "[[813  18]\n",
      " [143  26]]\n"
     ]
    }
   ],
   "source": [
    "from sklearn.metrics import confusion_matrix\n",
    "import matplotlib.pyplot as plt\n",
    "import matplotlib as mpl\n",
    "matrix_confu = confusion_matrix(Y_2, y_pred)\n",
    "print(matrix_confu)"
   ]
  },
  {
   "cell_type": "code",
   "execution_count": 26,
   "metadata": {
    "collapsed": false
   },
   "outputs": [
    {
     "data": {
      "image/png": "[encoded data removed]",
      "text/plain": [
       "<matplotlib.figure.Figure at 0x98f0050748>"
      ]
     },
     "metadata": {},
     "output_type": "display_data"
    }
   ],
   "source": [
    "%matplotlib inline\n",
    "import numpy as np\n",
    "import matplotlib as mpl\n",
    "import matplotlib.pyplot as plt\n",
    "import seaborn as sns\n",
    "sns.set();\n",
    "cmap = mpl.colors.ListedColormap(sns.color_palette(\"hls\", 3))\n",
    "def plot_confusion_matrix(matrix_confu, title='Confusion matrix', cmap=plt.cm.Blues):\n",
    "    plt.imshow(matrix_confu, interpolation='nearest', cmap=cmap)\n",
    "    plt.title(title)\n",
    "    plt.colorbar()\n",
    "    plt.tight_layout()\n",
    "    plt.ylabel('True label')\n",
    "    plt.xlabel('Predicted label')\n",
    "plt.figure()\n",
    "plot_confusion_matrix(matrix_confu)"
   ]
  },
  {
   "cell_type": "code",
   "execution_count": 29,
   "metadata": {
    "collapsed": false
   },
   "outputs": [],
   "source": [
    "from sklearn.linear_model import LogisticRegression\n",
    "from sklearn import cross_validation\n",
    "errores = []\n",
    "n_samples = Y_2.shape\n",
    "Cond = (y_pred == Y_2).sum()\n",
    "estim = 1- Cond / n_samples\n",
    "errores.append(estim)\n"
   ]
  },
  {
   "cell_type": "code",
   "execution_count": 30,
   "metadata": {
    "collapsed": false
   },
   "outputs": [
    {
     "name": "stdout",
     "output_type": "stream",
     "text": [
      "16.1\n"
     ]
    }
   ],
   "source": [
    "errores = np.array(errores)\n",
    "print(errores.mean()*100)"
   ]
  }
 ],
 "metadata": {
  "kernelspec": {
   "display_name": "Python 3",
   "language": "python",
   "name": "python3"
  },
  "language_info": {
   "codemirror_mode": {
    "name": "ipython",
    "version": 3
   },
   "file_extension": ".py",
   "mimetype": "text/x-python",
   "name": "python",
   "nbconvert_exporter": "python",
   "pygments_lexer": "ipython3",
   "version": "3.5.1"
  }
 },
 "nbformat": 4,
 "nbformat_minor": 0
}
